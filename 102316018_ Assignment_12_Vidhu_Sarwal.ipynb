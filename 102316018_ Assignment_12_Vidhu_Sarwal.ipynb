{
 "cells": [
  {
   "cell_type": "markdown",
   "metadata": {},
   "source": [
    "# How to setup environment\n",
    "\n",
    "1) INstall python 3.7  \n",
    "2) if you dont want to add to path run below command \n",
    "   ```powershell\n",
    "   & \"C:\\Users\\Vidhu\\AppData\\Local\\Programs\\Python\\Python37\\python.exe\" -m venv venv37  \n",
    "   ```\n",
    "3) then select this venv37 kernal in your notebook. "
   ]
  },
  {
   "cell_type": "code",
   "execution_count": 1,
   "metadata": {},
   "outputs": [
    {
     "name": "stderr",
     "output_type": "stream",
     "text": [
      "Skipping numpy as it is not installed.\n",
      "Skipping h5py as it is not installed.\n",
      "Skipping spacy as it is not installed.\n",
      "Skipping thinc as it is not installed.\n",
      "Skipping chatterbot as it is not installed.\n",
      "You are using pip version 10.0.1, however version 24.0 is available.\n",
      "You should consider upgrading via the 'python -m pip install --upgrade pip' command.\n"
     ]
    },
    {
     "name": "stdout",
     "output_type": "stream",
     "text": [
      "Collecting numpy==1.19.5\n",
      "  Downloading https://files.pythonhosted.org/packages/ff/18/60ac053857fb924b0324c81200b59c00317ebaa3c14b7478266b50ffed19/numpy-1.19.5-cp37-cp37m-win_amd64.whl (13.2MB)\n",
      "Installing collected packages: numpy\n",
      "Successfully installed numpy-1.19.5\n"
     ]
    },
    {
     "name": "stderr",
     "output_type": "stream",
     "text": [
      "  Cache entry deserialization failed, entry ignored\n",
      "You are using pip version 10.0.1, however version 24.0 is available.\n",
      "You should consider upgrading via the 'python -m pip install --upgrade pip' command.\n"
     ]
    },
    {
     "name": "stdout",
     "output_type": "stream",
     "text": [
      "Collecting h5py==2.10.0\n",
      "  Downloading https://files.pythonhosted.org/packages/a1/6b/7f62017e3f0b32438dd90bdc1ff0b7b1448b6cb04a1ed84f37b6de95cd7b/h5py-2.10.0-cp37-cp37m-win_amd64.whl (2.5MB)\n",
      "Requirement already satisfied: six in c:\\users\\vidhu\\desktop\\cc\\venv37\\lib\\site-packages (from h5py==2.10.0) (1.17.0)\n",
      "Requirement already satisfied: numpy>=1.7 in c:\\users\\vidhu\\desktop\\cc\\venv37\\lib\\site-packages (from h5py==2.10.0) (1.19.5)\n",
      "Installing collected packages: h5py\n",
      "Successfully installed h5py-2.10.0\n"
     ]
    },
    {
     "name": "stderr",
     "output_type": "stream",
     "text": [
      "You are using pip version 10.0.1, however version 24.0 is available.\n",
      "You should consider upgrading via the 'python -m pip install --upgrade pip' command.\n"
     ]
    },
    {
     "name": "stdout",
     "output_type": "stream",
     "text": [
      "Collecting spacy==2.3.5\n",
      "  Downloading https://files.pythonhosted.org/packages/65/63/da83e546869deeb119c895dbd36d62e643ee50fdf2db4d4c271841b9de6d/spacy-2.3.5-cp37-cp37m-win_amd64.whl (9.5MB)\n",
      "Collecting requests<3.0.0,>=2.13.0 (from spacy==2.3.5)\n",
      "  Downloading https://files.pythonhosted.org/packages/70/8e/0e2d847013cb52cd35b38c009bb167a1a26b2ce6cd6965bf26b47bc0bf44/requests-2.31.0-py3-none-any.whl (62kB)\n",
      "Requirement already satisfied: setuptools in c:\\users\\vidhu\\desktop\\cc\\venv37\\lib\\site-packages (from spacy==2.3.5) (39.0.1)\n",
      "Collecting murmurhash<1.1.0,>=0.28.0 (from spacy==2.3.5)\n",
      "  Downloading https://files.pythonhosted.org/packages/64/d9/e7c6a7d4e9b5320c17e54af6f9edd2f521c6f86bbbb72aba571f641a9793/murmurhash-1.0.12.tar.gz\n",
      "  Installing build dependencies: started\n",
      "  Installing build dependencies: finished with status 'done'\n",
      "Collecting blis<0.8.0,>=0.4.0 (from spacy==2.3.5)\n",
      "  Downloading https://files.pythonhosted.org/packages/0a/b0/3d6077b7b077652f6dfad6b42454e7264562989a31634e9d8d8aa152c3fd/blis-0.7.11-cp37-cp37m-win_amd64.whl (6.6MB)\n",
      "Collecting plac<1.2.0,>=0.9.6 (from spacy==2.3.5)\n",
      "  Downloading https://files.pythonhosted.org/packages/86/85/40b8f66c2dd8f4fd9f09d59b22720cffecf1331e788b8a0cab5bafb353d1/plac-1.1.3-py2.py3-none-any.whl\n",
      "Collecting catalogue<1.1.0,>=0.0.7 (from spacy==2.3.5)\n",
      "  Downloading https://files.pythonhosted.org/packages/fb/8d/7cce983c23fe1bf5f072545853b3c22e2b76e500f2476d968c01757a70c4/catalogue-1.0.2-py2.py3-none-any.whl\n",
      "Collecting wasabi<1.1.0,>=0.4.0 (from spacy==2.3.5)\n",
      "  Downloading https://files.pythonhosted.org/packages/34/74/bd566f876c2de097e75d525c2696fb9829009987a0d93a4fb3576778a0a8/wasabi-0.10.1-py3-none-any.whl\n",
      "Requirement already satisfied: numpy>=1.15.0 in c:\\users\\vidhu\\desktop\\cc\\venv37\\lib\\site-packages (from spacy==2.3.5) (1.19.5)\n",
      "Collecting thinc<7.5.0,>=7.4.1 (from spacy==2.3.5)\n",
      "  Downloading https://files.pythonhosted.org/packages/54/fd/191132fc74e8390eb6a6a27978c7b506b2a62f1af9fea4b36299a9d63ba6/thinc-7.4.6-cp37-cp37m-win_amd64.whl (818kB)\n",
      "Collecting preshed<3.1.0,>=3.0.2 (from spacy==2.3.5)\n",
      "  Downloading https://files.pythonhosted.org/packages/1b/1d/55e3bf8a13a13eb78bf81af78e307f881fcca8971a4a996c3369860ab0c5/preshed-3.0.9-cp37-cp37m-win_amd64.whl (122kB)\n",
      "Collecting tqdm<5.0.0,>=4.38.0 (from spacy==2.3.5)\n",
      "  Using cached https://files.pythonhosted.org/packages/d0/30/dc54f88dd4a2b5dc8a0279bdd7270e735851848b762aeb1c1184ed1f6b14/tqdm-4.67.1-py3-none-any.whl\n",
      "Collecting cymem<2.1.0,>=2.0.2 (from spacy==2.3.5)\n",
      "  Downloading https://files.pythonhosted.org/packages/f2/4a/1acd761fb6ac4c560e823ce40536a62f886f2d59b2763b5c3fc7e9d92101/cymem-2.0.11.tar.gz\n",
      "  Installing build dependencies: started\n",
      "  Installing build dependencies: finished with status 'done'\n",
      "Collecting srsly<1.1.0,>=1.0.2 (from spacy==2.3.5)\n",
      "  Downloading https://files.pythonhosted.org/packages/30/4e/ff5ace7747a686fdd27d8e16d53c66faae162c2cf881cd73e1b4fd209f6f/srsly-1.0.7-cp37-cp37m-win_amd64.whl (357kB)\n",
      "Collecting urllib3<3,>=1.21.1 (from requests<3.0.0,>=2.13.0->spacy==2.3.5)\n",
      "  Downloading https://files.pythonhosted.org/packages/d2/b2/b157855192a68541a91ba7b2bbcb91f1b4faa51f8bae38d8005c034be524/urllib3-2.0.7-py3-none-any.whl (124kB)\n",
      "Collecting charset-normalizer<4,>=2 (from requests<3.0.0,>=2.13.0->spacy==2.3.5)\n",
      "  Downloading https://files.pythonhosted.org/packages/64/3f/29fad769c4cf1b171a4203799d9c3abcd0b552690c9437315a6a960751e7/charset_normalizer-3.4.2-cp37-cp37m-win_amd64.whl (103kB)\n",
      "Collecting certifi>=2017.4.17 (from requests<3.0.0,>=2.13.0->spacy==2.3.5)\n",
      "  Downloading https://files.pythonhosted.org/packages/4a/7e/3db2bd1b1f9e95f7cddca6d6e75e2f2bd9f51b1246e546d88addca0106bd/certifi-2025.4.26-py3-none-any.whl (159kB)\n",
      "Collecting idna<4,>=2.5 (from requests<3.0.0,>=2.13.0->spacy==2.3.5)\n",
      "  Using cached https://files.pythonhosted.org/packages/76/c6/c88e154df9c4e1a2a66ccf0005a88dfb2650c1dffb6f5ce603dfbd452ce3/idna-3.10-py3-none-any.whl\n",
      "Collecting typing-extensions>=3.6.4; python_version < \"3.8\" (from catalogue<1.1.0,>=0.0.7->spacy==2.3.5)\n",
      "  Downloading https://files.pythonhosted.org/packages/ec/6b/63cc3df74987c36fe26157ee12e09e8f9db4de771e0f3404263117e75b95/typing_extensions-4.7.1-py3-none-any.whl\n",
      "Collecting zipp>=0.5; python_version < \"3.8\" (from catalogue<1.1.0,>=0.0.7->spacy==2.3.5)\n",
      "  Downloading https://files.pythonhosted.org/packages/5b/fa/c9e82bbe1af6266adf08afb563905eb87cab83fde00a0a08963510621047/zipp-3.15.0-py3-none-any.whl\n",
      "Requirement already satisfied: colorama; platform_system == \"Windows\" in c:\\users\\vidhu\\desktop\\cc\\venv37\\lib\\site-packages (from tqdm<5.0.0,>=4.38.0->spacy==2.3.5) (0.4.6)\n",
      "Installing collected packages: urllib3, charset-normalizer, certifi, idna, requests, murmurhash, blis, plac, typing-extensions, zipp, catalogue, wasabi, cymem, preshed, srsly, tqdm, thinc, spacy\n",
      "  Running setup.py install for murmurhash: started\n",
      "    Running setup.py install for murmurhash: finished with status 'done'\n",
      "  Running setup.py install for cymem: started\n",
      "    Running setup.py install for cymem: finished with status 'done'\n",
      "Successfully installed blis-0.7.11 catalogue-1.0.2 certifi-2025.4.26 charset-normalizer-3.4.2 cymem-2.0.11 idna-3.10 murmurhash-1.0.12 plac-1.1.3 preshed-3.0.9 requests-2.31.0 spacy-2.3.5 srsly-1.0.7 thinc-7.4.6 tqdm-4.67.1 typing-extensions-4.7.1 urllib3-2.0.7 wasabi-0.10.1 zipp-3.15.0\n"
     ]
    },
    {
     "name": "stderr",
     "output_type": "stream",
     "text": [
      "  Cache entry deserialization failed, entry ignored\n",
      "  Cache entry deserialization failed, entry ignored\n",
      "  Cache entry deserialization failed, entry ignored\n",
      "  Missing build time requirements in pyproject.toml for murmurhash<1.1.0,>=0.28.0 from https://files.pythonhosted.org/packages/64/d9/e7c6a7d4e9b5320c17e54af6f9edd2f521c6f86bbbb72aba571f641a9793/murmurhash-1.0.12.tar.gz#sha256=467b7ee31c1f79f46d00436a1957fc52a0e5801369dd2f30eb7655f380735b5f (from spacy==2.3.5): 'wheel'.\n",
      "  This version of pip does not implement PEP 517 so it cannot build a wheel without 'setuptools' and 'wheel'.\n",
      "  Cache entry deserialization failed, entry ignored\n",
      "  Cache entry deserialization failed, entry ignored\n",
      "  Cache entry deserialization failed, entry ignored\n",
      "  Cache entry deserialization failed, entry ignored\n",
      "  Cache entry deserialization failed, entry ignored\n",
      "  Cache entry deserialization failed, entry ignored\n",
      "  Cache entry deserialization failed, entry ignored\n",
      "  Cache entry deserialization failed, entry ignored\n",
      "  Missing build time requirements in pyproject.toml for cymem<2.1.0,>=2.0.2 from https://files.pythonhosted.org/packages/f2/4a/1acd761fb6ac4c560e823ce40536a62f886f2d59b2763b5c3fc7e9d92101/cymem-2.0.11.tar.gz#sha256=efe49a349d4a518be6b6c6b255d4a80f740a341544bde1a807707c058b88d0bd (from spacy==2.3.5): 'wheel'.\n",
      "  This version of pip does not implement PEP 517 so it cannot build a wheel without 'setuptools' and 'wheel'.\n",
      "  Cache entry deserialization failed, entry ignored\n",
      "  Cache entry deserialization failed, entry ignored\n",
      "  Cache entry deserialization failed, entry ignored\n",
      "  Cache entry deserialization failed, entry ignored\n",
      "  Cache entry deserialization failed, entry ignored\n",
      "  Cache entry deserialization failed, entry ignored\n",
      "You are using pip version 10.0.1, however version 24.0 is available.\n",
      "You should consider upgrading via the 'python -m pip install --upgrade pip' command.\n"
     ]
    },
    {
     "name": "stdout",
     "output_type": "stream",
     "text": [
      "Collecting thinc==7.4.5\n",
      "  Downloading https://files.pythonhosted.org/packages/2d/68/9d0a25a2a78bfdab8c42018de4ee19fd9caa533dd535cc2cb9bc92f1801f/thinc-7.4.5-cp37-cp37m-win_amd64.whl (888kB)\n",
      "Requirement already satisfied: numpy>=1.15.0 in c:\\users\\vidhu\\desktop\\cc\\venv37\\lib\\site-packages (from thinc==7.4.5) (1.19.5)\n",
      "Requirement already satisfied: murmurhash<1.1.0,>=0.28.0 in c:\\users\\vidhu\\desktop\\cc\\venv37\\lib\\site-packages (from thinc==7.4.5) (1.0.12)\n",
      "Requirement already satisfied: blis<0.8.0,>=0.4.0 in c:\\users\\vidhu\\desktop\\cc\\venv37\\lib\\site-packages (from thinc==7.4.5) (0.7.11)\n",
      "Requirement already satisfied: plac<1.2.0,>=0.9.6 in c:\\users\\vidhu\\desktop\\cc\\venv37\\lib\\site-packages (from thinc==7.4.5) (1.1.3)\n",
      "Requirement already satisfied: wasabi<1.1.0,>=0.0.9 in c:\\users\\vidhu\\desktop\\cc\\venv37\\lib\\site-packages (from thinc==7.4.5) (0.10.1)\n",
      "Requirement already satisfied: cymem<2.1.0,>=2.0.2 in c:\\users\\vidhu\\desktop\\cc\\venv37\\lib\\site-packages (from thinc==7.4.5) (2.0.11)\n",
      "Requirement already satisfied: preshed<3.1.0,>=1.0.1 in c:\\users\\vidhu\\desktop\\cc\\venv37\\lib\\site-packages (from thinc==7.4.5) (3.0.9)\n",
      "Requirement already satisfied: catalogue<1.1.0,>=0.0.7 in c:\\users\\vidhu\\desktop\\cc\\venv37\\lib\\site-packages (from thinc==7.4.5) (1.0.2)\n",
      "Requirement already satisfied: srsly<1.1.0,>=0.0.6 in c:\\users\\vidhu\\desktop\\cc\\venv37\\lib\\site-packages (from thinc==7.4.5) (1.0.7)\n",
      "Requirement already satisfied: tqdm<5.0.0,>=4.10.0 in c:\\users\\vidhu\\desktop\\cc\\venv37\\lib\\site-packages (from thinc==7.4.5) (4.67.1)\n",
      "Requirement already satisfied: zipp>=0.5; python_version < \"3.8\" in c:\\users\\vidhu\\desktop\\cc\\venv37\\lib\\site-packages (from catalogue<1.1.0,>=0.0.7->thinc==7.4.5) (3.15.0)\n",
      "Requirement already satisfied: typing-extensions>=3.6.4; python_version < \"3.8\" in c:\\users\\vidhu\\desktop\\cc\\venv37\\lib\\site-packages (from catalogue<1.1.0,>=0.0.7->thinc==7.4.5) (4.7.1)\n",
      "Requirement already satisfied: colorama; platform_system == \"Windows\" in c:\\users\\vidhu\\desktop\\cc\\venv37\\lib\\site-packages (from tqdm<5.0.0,>=4.10.0->thinc==7.4.5) (0.4.6)\n",
      "Installing collected packages: thinc\n",
      "  Found existing installation: thinc 7.4.6\n",
      "    Uninstalling thinc-7.4.6:\n",
      "      Successfully uninstalled thinc-7.4.6\n",
      "Successfully installed thinc-7.4.5\n"
     ]
    },
    {
     "name": "stderr",
     "output_type": "stream",
     "text": [
      "You are using pip version 10.0.1, however version 24.0 is available.\n",
      "You should consider upgrading via the 'python -m pip install --upgrade pip' command.\n"
     ]
    },
    {
     "name": "stdout",
     "output_type": "stream",
     "text": [
      "Collecting chatterbot==1.0.5\n",
      "  Downloading https://files.pythonhosted.org/packages/6c/0e/dac0d82f34f86bf509cf5ef3e2dfc5aa7d444bd843a2330ceb7d854f84f2/ChatterBot-1.0.5-py2.py3-none-any.whl (67kB)\n",
      "Collecting pytz (from chatterbot==1.0.5)\n",
      "  Using cached https://files.pythonhosted.org/packages/81/c4/34e93fe5f5429d7570ec1fa436f1986fb1f00c3e0f43a589fe2bbcd22c3f/pytz-2025.2-py2.py3-none-any.whl\n",
      "Collecting pymongo<4.0,>=3.3 (from chatterbot==1.0.5)\n",
      "  Downloading https://files.pythonhosted.org/packages/b0/04/a4db8a9c0d127fbcab5a65c9a8d789459ad6c58d0cbddafb287c332e7f39/pymongo-3.13.0-cp37-cp37m-win_amd64.whl (394kB)\n",
      "Collecting pint>=0.8.1 (from chatterbot==1.0.5)\n",
      "  Downloading https://files.pythonhosted.org/packages/0a/98/98b3c6d954b6bd8531c611fb24be53ccc66438f493b05ec4b107942e27b7/Pint-0.18-py2.py3-none-any.whl (209kB)\n",
      "Collecting sqlalchemy<1.3,>=1.2 (from chatterbot==1.0.5)\n",
      "  Downloading https://files.pythonhosted.org/packages/f9/67/d07cf7ac7e6dd0bc55ba62816753f86d7c558107104ca915e730c9ec2512/SQLAlchemy-1.2.19.tar.gz (5.7MB)\n",
      "Collecting pyyaml<5.2,>=5.1 (from chatterbot==1.0.5)\n",
      "  Downloading https://files.pythonhosted.org/packages/bc/3f/4f733cd0b1b675f34beb290d465a65e0f06b492c00b111d1b75125062de1/PyYAML-5.1.2-cp37-cp37m-win_amd64.whl (215kB)\n",
      "Collecting spacy<2.2,>=2.1 (from chatterbot==1.0.5)\n",
      "  Downloading https://files.pythonhosted.org/packages/41/ef/b6526a755050ddd937ef88e4a969ed9ba6854f3dd792516a692aad4bb6a7/spacy-2.1.9-cp37-cp37m-win_amd64.whl (30.0MB)\n",
      "Collecting nltk<4.0,>=3.2 (from chatterbot==1.0.5)\n",
      "  Downloading https://files.pythonhosted.org/packages/a6/0a/0d20d2c0f16be91b9fa32a77b76c60f9baf6eba419e5ef5deca17af9c582/nltk-3.8.1-py3-none-any.whl (1.5MB)\n",
      "Collecting python-dateutil<2.8,>=2.7 (from chatterbot==1.0.5)\n",
      "  Downloading https://files.pythonhosted.org/packages/74/68/d87d9b36af36f44254a8d512cbfc48369103a3b9e474be9bdfe536abfc45/python_dateutil-2.7.5-py2.py3-none-any.whl (225kB)\n",
      "Collecting mathparse<0.2,>=0.1 (from chatterbot==1.0.5)\n",
      "  Downloading https://files.pythonhosted.org/packages/c3/e5/4910fb85950cb960fcf3f5aabe1c8e55f5c9201788a1c1302b570a7e1f84/mathparse-0.1.2-py3-none-any.whl\n",
      "Requirement already satisfied: packaging in c:\\users\\vidhu\\desktop\\cc\\venv37\\lib\\site-packages (from pint>=0.8.1->chatterbot==1.0.5) (24.0)\n",
      "Collecting importlib-metadata; python_version < \"3.8\" (from pint>=0.8.1->chatterbot==1.0.5)\n",
      "  Downloading https://files.pythonhosted.org/packages/ff/94/64287b38c7de4c90683630338cf28f129decbba0a44f0c6db35a873c73c4/importlib_metadata-6.7.0-py3-none-any.whl\n",
      "Requirement already satisfied: wasabi<1.1.0,>=0.2.0 in c:\\users\\vidhu\\desktop\\cc\\venv37\\lib\\site-packages (from spacy<2.2,>=2.1->chatterbot==1.0.5) (0.10.1)\n",
      "Collecting blis<0.3.0,>=0.2.2 (from spacy<2.2,>=2.1->chatterbot==1.0.5)\n",
      "  Downloading https://files.pythonhosted.org/packages/5e/94/9da0eff97411b3e85933e8b955d2ffd353f97b65372a2861e57d59d9ad5d/blis-0.2.4-cp37-cp37m-win_amd64.whl (3.1MB)\n",
      "Requirement already satisfied: srsly<1.1.0,>=0.0.6 in c:\\users\\vidhu\\desktop\\cc\\venv37\\lib\\site-packages (from spacy<2.2,>=2.1->chatterbot==1.0.5) (1.0.7)\n",
      "Requirement already satisfied: murmurhash<1.1.0,>=0.28.0 in c:\\users\\vidhu\\desktop\\cc\\venv37\\lib\\site-packages (from spacy<2.2,>=2.1->chatterbot==1.0.5) (1.0.12)\n",
      "Requirement already satisfied: requests<3.0.0,>=2.13.0 in c:\\users\\vidhu\\desktop\\cc\\venv37\\lib\\site-packages (from spacy<2.2,>=2.1->chatterbot==1.0.5) (2.31.0)\n",
      "Requirement already satisfied: cymem<2.1.0,>=2.0.2 in c:\\users\\vidhu\\desktop\\cc\\venv37\\lib\\site-packages (from spacy<2.2,>=2.1->chatterbot==1.0.5) (2.0.11)\n",
      "Collecting preshed<2.1.0,>=2.0.1 (from spacy<2.2,>=2.1->chatterbot==1.0.5)\n",
      "  Downloading https://files.pythonhosted.org/packages/b8/e3/0ec374ed2b5046073e735b6e349d759e795fc2e3c83306fbef88efa01921/preshed-2.0.1-cp37-cp37m-win_amd64.whl (73kB)\n",
      "Collecting thinc<7.1.0,>=7.0.8 (from spacy<2.2,>=2.1->chatterbot==1.0.5)\n",
      "  Downloading https://files.pythonhosted.org/packages/20/16/96f6c0a4301f392077c67831639e8e614e2adf45185ee6a1c6a3f0ab2299/thinc-7.0.8-cp37-cp37m-win_amd64.whl (1.9MB)\n",
      "Collecting plac<1.0.0,>=0.9.6 (from spacy<2.2,>=2.1->chatterbot==1.0.5)\n",
      "  Downloading https://files.pythonhosted.org/packages/9e/9b/62c60d2f5bc135d2aa1d8c8a86aaf84edb719a59c7f11a4316259e61a298/plac-0.9.6-py2.py3-none-any.whl\n",
      "Requirement already satisfied: numpy>=1.15.0 in c:\\users\\vidhu\\desktop\\cc\\venv37\\lib\\site-packages (from spacy<2.2,>=2.1->chatterbot==1.0.5) (1.19.5)\n",
      "Collecting click (from nltk<4.0,>=3.2->chatterbot==1.0.5)\n",
      "  Using cached https://files.pythonhosted.org/packages/7e/d4/7ebdbd03970677812aac39c869717059dbb71a4cfc033ca6e5221787892c/click-8.1.8-py3-none-any.whl\n",
      "Requirement already satisfied: tqdm in c:\\users\\vidhu\\desktop\\cc\\venv37\\lib\\site-packages (from nltk<4.0,>=3.2->chatterbot==1.0.5) (4.67.1)\n",
      "Collecting regex>=2021.8.3 (from nltk<4.0,>=3.2->chatterbot==1.0.5)\n",
      "  Downloading https://files.pythonhosted.org/packages/9c/a9/e482ecfb6b229cc0b55c5360674280adddea26327a4ecdc258bc09d1fbd3/regex-2024.4.16-cp37-cp37m-win_amd64.whl (269kB)\n",
      "Collecting joblib (from nltk<4.0,>=3.2->chatterbot==1.0.5)\n",
      "  Downloading https://files.pythonhosted.org/packages/10/40/d551139c85db202f1f384ba8bcf96aca2f329440a844f924c8a0040b6d02/joblib-1.3.2-py3-none-any.whl (302kB)\n",
      "Requirement already satisfied: six>=1.5 in c:\\users\\vidhu\\desktop\\cc\\venv37\\lib\\site-packages (from python-dateutil<2.8,>=2.7->chatterbot==1.0.5) (1.17.0)\n",
      "Requirement already satisfied: zipp>=0.5 in c:\\users\\vidhu\\desktop\\cc\\venv37\\lib\\site-packages (from importlib-metadata; python_version < \"3.8\"->pint>=0.8.1->chatterbot==1.0.5) (3.15.0)\n",
      "Requirement already satisfied: typing-extensions>=3.6.4; python_version < \"3.8\" in c:\\users\\vidhu\\desktop\\cc\\venv37\\lib\\site-packages (from importlib-metadata; python_version < \"3.8\"->pint>=0.8.1->chatterbot==1.0.5) (4.7.1)\n",
      "Requirement already satisfied: urllib3<3,>=1.21.1 in c:\\users\\vidhu\\desktop\\cc\\venv37\\lib\\site-packages (from requests<3.0.0,>=2.13.0->spacy<2.2,>=2.1->chatterbot==1.0.5) (2.0.7)\n",
      "Requirement already satisfied: idna<4,>=2.5 in c:\\users\\vidhu\\desktop\\cc\\venv37\\lib\\site-packages (from requests<3.0.0,>=2.13.0->spacy<2.2,>=2.1->chatterbot==1.0.5) (3.10)\n",
      "Requirement already satisfied: charset-normalizer<4,>=2 in c:\\users\\vidhu\\desktop\\cc\\venv37\\lib\\site-packages (from requests<3.0.0,>=2.13.0->spacy<2.2,>=2.1->chatterbot==1.0.5) (3.4.2)\n",
      "Requirement already satisfied: certifi>=2017.4.17 in c:\\users\\vidhu\\desktop\\cc\\venv37\\lib\\site-packages (from requests<3.0.0,>=2.13.0->spacy<2.2,>=2.1->chatterbot==1.0.5) (2025.4.26)\n",
      "Requirement already satisfied: colorama; platform_system == \"Windows\" in c:\\users\\vidhu\\desktop\\cc\\venv37\\lib\\site-packages (from click->nltk<4.0,>=3.2->chatterbot==1.0.5) (0.4.6)\n",
      "Installing collected packages: pytz, pymongo, importlib-metadata, pint, sqlalchemy, pyyaml, blis, preshed, plac, thinc, spacy, click, regex, joblib, nltk, python-dateutil, mathparse, chatterbot\n",
      "  Running setup.py install for sqlalchemy: started\n",
      "    Running setup.py install for sqlalchemy: finished with status 'done'\n",
      "  Found existing installation: blis 0.7.11\n",
      "    Uninstalling blis-0.7.11:\n",
      "      Successfully uninstalled blis-0.7.11\n",
      "  Found existing installation: preshed 3.0.9\n",
      "    Uninstalling preshed-3.0.9:\n",
      "      Successfully uninstalled preshed-3.0.9\n",
      "  Found existing installation: plac 1.1.3\n",
      "    Uninstalling plac-1.1.3:\n",
      "      Successfully uninstalled plac-1.1.3\n",
      "  Found existing installation: thinc 7.4.5\n",
      "    Uninstalling thinc-7.4.5:\n",
      "      Successfully uninstalled thinc-7.4.5\n",
      "  Found existing installation: spacy 2.3.5\n",
      "    Uninstalling spacy-2.3.5:\n",
      "      Successfully uninstalled spacy-2.3.5\n",
      "  Found existing installation: python-dateutil 2.9.0.post0\n",
      "    Uninstalling python-dateutil-2.9.0.post0:\n",
      "      Successfully uninstalled python-dateutil-2.9.0.post0\n",
      "Successfully installed blis-0.2.4 chatterbot-1.0.5 click-8.1.8 importlib-metadata-6.7.0 joblib-1.3.2 mathparse-0.1.2 nltk-3.8.1 pint-0.18 plac-0.9.6 preshed-2.0.1 pymongo-3.13.0 python-dateutil-2.7.5 pytz-2025.2 pyyaml-5.1.2 regex-2024.4.16 spacy-2.1.9 sqlalchemy-1.2.19 thinc-7.0.8\n"
     ]
    },
    {
     "name": "stderr",
     "output_type": "stream",
     "text": [
      "  Cache entry deserialization failed, entry ignored\n",
      "  Cache entry deserialization failed, entry ignored\n",
      "  Cache entry deserialization failed, entry ignored\n",
      "  Cache entry deserialization failed, entry ignored\n",
      "  Cache entry deserialization failed, entry ignored\n",
      "  Cache entry deserialization failed, entry ignored\n",
      "jupyter-client 7.4.9 has requirement python-dateutil>=2.8.2, but you'll have python-dateutil 2.7.5 which is incompatible.\n",
      "You are using pip version 10.0.1, however version 24.0 is available.\n",
      "You should consider upgrading via the 'python -m pip install --upgrade pip' command.\n"
     ]
    }
   ],
   "source": [
    "#Uninstall existing version then install specific versions of the packages\n",
    "!pip uninstall -y numpy h5py spacy thinc chatterbot\n",
    "!pip install numpy==1.19.5\n",
    "!pip install h5py==2.10.0\n",
    "!pip install spacy==2.3.5\n",
    "!pip install thinc==7.4.5\n",
    "!pip install chatterbot==1.0.5"
   ]
  },
  {
   "cell_type": "code",
   "execution_count": 3,
   "metadata": {},
   "outputs": [
    {
     "name": "stdout",
     "output_type": "stream",
     "text": [
      "Collecting chatterbot_corpus"
     ]
    },
    {
     "name": "stderr",
     "output_type": "stream",
     "text": [
      "jupyter-client 7.4.9 has requirement python-dateutil>=2.8.2, but you'll have python-dateutil 2.7.5 which is incompatible.\n",
      "You are using pip version 10.0.1, however version 24.0 is available.\n",
      "You should consider upgrading via the 'python -m pip install --upgrade pip' command.\n"
     ]
    },
    {
     "name": "stdout",
     "output_type": "stream",
     "text": [
      "\n",
      "  Downloading https://files.pythonhosted.org/packages/d9/e3/563e3ac08e518c7288fcfc1cb91aae09cac15b901d501509cce71be8f62e/chatterbot_corpus-1.2.2-py2.py3-none-any.whl (240kB)\n",
      "Installing collected packages: chatterbot-corpus\n",
      "Successfully installed chatterbot-corpus-1.2.2\n"
     ]
    }
   ],
   "source": [
    "!pip install chatterbot_corpus\n"
   ]
  },
  {
   "cell_type": "code",
   "execution_count": 8,
   "metadata": {},
   "outputs": [
    {
     "name": "stdout",
     "output_type": "stream",
     "text": [
      "Uninstalling urllib3-1.26.6:"
     ]
    },
    {
     "name": "stderr",
     "output_type": "stream",
     "text": [
      "You are using pip version 10.0.1, however version 24.0 is available.\n",
      "You should consider upgrading via the 'python -m pip install --upgrade pip' command.\n"
     ]
    },
    {
     "name": "stdout",
     "output_type": "stream",
     "text": [
      "\n",
      "  Successfully uninstalled urllib3-1.26.6\n",
      "Uninstalling requests-2.31.0:\n",
      "  Successfully uninstalled requests-2.31.0\n",
      "Collecting urllib3==1.26.6\n",
      "  Using cached https://files.pythonhosted.org/packages/5f/64/43575537846896abac0b15c3e5ac678d787a4021e906703f1766bfb8ea11/urllib3-1.26.6-py2.py3-none-any.whl\n",
      "Collecting requests==2.25.1\n",
      "  Downloading https://files.pythonhosted.org/packages/29/c1/24814557f1d22c56d50280771a17307e6bf87b70727d975fd6b2ce6b014a/requests-2.25.1-py2.py3-none-any.whl (61kB)\n",
      "Collecting chardet<5,>=3.0.2 (from requests==2.25.1)\n",
      "  Downloading https://files.pythonhosted.org/packages/19/c7/fa589626997dd07bd87d9269342ccb74b1720384a4d739a1872bd84fbe68/chardet-4.0.0-py2.py3-none-any.whl (178kB)\n",
      "Requirement already satisfied: certifi>=2017.4.17 in c:\\users\\vidhu\\desktop\\cc\\venv37\\lib\\site-packages (from requests==2.25.1) (2025.4.26)\n",
      "Collecting idna<3,>=2.5 (from requests==2.25.1)\n",
      "  Downloading https://files.pythonhosted.org/packages/a2/38/928ddce2273eaa564f6f50de919327bf3a00f091b5baba8dfa9460f3a8a8/idna-2.10-py2.py3-none-any.whl (58kB)\n",
      "Installing collected packages: urllib3, chardet, idna, requests\n",
      "  Found existing installation: idna 3.10\n",
      "    Uninstalling idna-3.10:\n",
      "      Successfully uninstalled idna-3.10\n",
      "Successfully installed chardet-4.0.0 idna-2.10 requests-2.25.1 urllib3-1.26.6\n"
     ]
    },
    {
     "name": "stderr",
     "output_type": "stream",
     "text": [
      "jupyter-client 7.4.9 has requirement python-dateutil>=2.8.2, but you'll have python-dateutil 2.7.5 which is incompatible.\n",
      "You are using pip version 10.0.1, however version 24.0 is available.\n",
      "You should consider upgrading via the 'python -m pip install --upgrade pip' command.\n"
     ]
    }
   ],
   "source": [
    "!pip uninstall urllib3 requests -y\n",
    "!pip install urllib3==1.26.6 requests==2.25.1"
   ]
  },
  {
   "cell_type": "code",
   "execution_count": 1,
   "metadata": {},
   "outputs": [
    {
     "name": "stdout",
     "output_type": "stream",
     "text": [
      "List Trainer: [#                   ] 5%"
     ]
    },
    {
     "name": "stderr",
     "output_type": "stream",
     "text": [
      "[nltk_data] Downloading package averaged_perceptron_tagger to\n",
      "[nltk_data]     C:\\Users\\Vidhu\\AppData\\Roaming\\nltk_data...\n",
      "[nltk_data]   Package averaged_perceptron_tagger is already up-to-\n",
      "[nltk_data]       date!\n",
      "[nltk_data] Downloading package stopwords to\n",
      "[nltk_data]     C:\\Users\\Vidhu\\AppData\\Roaming\\nltk_data...\n",
      "[nltk_data]   Package stopwords is already up-to-date!\n"
     ]
    },
    {
     "name": "stdout",
     "output_type": "stream",
     "text": [
      "List Trainer: [####################] 100%\n"
     ]
    }
   ],
   "source": [
    "from chatterbot import ChatBot\n",
    "from chatterbot.trainers import ListTrainer\n",
    "\n",
    "health_bot = ChatBot(\n",
    "    'HealthBot',\n",
    "    read_only=True,\n",
    "    logic_adapters=[\n",
    "        'chatterbot.logic.BestMatch'\n",
    "    ]\n",
    ")\n",
    "\n",
    "trainer = ListTrainer(health_bot)\n",
    "\n",
    "health_conversation = [\n",
    "    'Hi',\n",
    "    'Hello! I am HealthBot. How can I assist you today?',\n",
    "    'Hello',\n",
    "    'Hi! Do you have a health-related question?',\n",
    "    'I have a headache',\n",
    "    'You should rest, stay hydrated, and take a mild pain reliever if needed.',\n",
    "    'What should I do if I have a fever?',\n",
    "    'Drink plenty of fluids and rest. If the fever persists, please consult a doctor.',\n",
    "    'I feel dizzy',\n",
    "    'Sit down, breathe deeply, and drink water. If it continues, seek medical help.',\n",
    "    'What should I eat for a cold?',\n",
    "    'Warm fluids, soups, citrus fruits, and light meals help during a cold.',\n",
    "    'How to stay healthy?',\n",
    "    'Eat balanced meals, exercise regularly, stay hydrated, and get enough sleep.',\n",
    "    'What should I do in case of a cut?',\n",
    "    'Clean the wound with water, apply antiseptic, and cover it with a clean bandage.',\n",
    "    'How much water should I drink daily?',\n",
    "    'Generally, 2 to 3 liters per day is recommended, but it varies based on your activity.',\n",
    "    'Thank you',\n",
    "    'You’re welcome! Take care.',\n",
    "    'Bye',\n",
    "    'Goodbye! Stay healthy.'\n",
    "]\n",
    "\n",
    "trainer.train(health_conversation)\n"
   ]
  },
  {
   "cell_type": "code",
   "execution_count": null,
   "metadata": {},
   "outputs": [
    {
     "name": "stdout",
     "output_type": "stream",
     "text": [
      "List Trainer: [####################] 100%\n",
      "Ask something to Siya (type 'exit' to end)\n"
     ]
    }
   ],
   "source": [
    "#wont work in notebook hehe\n",
    "trainer.train(conversations)\n",
    "\n",
    "print(\"Ask something to Siya (type 'exit' to end)\")\n",
    "\n",
    "while True:\n",
    "    user_input = input(\"You: \")\n",
    "    if user_input.lower() == 'exit':\n",
    "        print(\"Siya: Bye! Stay healthy and happy.\")\n",
    "        break\n",
    "response = mybot.get_response(user_input)\n",
    "print(f\"Siya: {response}\")"
   ]
  },
  {
   "cell_type": "code",
   "execution_count": 5,
   "metadata": {},
   "outputs": [
    {
     "name": "stdout",
     "output_type": "stream",
     "text": [
      "Collecting ipywidgets"
     ]
    },
    {
     "name": "stderr",
     "output_type": "stream",
     "text": [
      "jupyter-client 7.4.9 has requirement python-dateutil>=2.8.2, but you'll have python-dateutil 2.7.5 which is incompatible.\n",
      "You are using pip version 10.0.1, however version 24.0 is available.\n",
      "You should consider upgrading via the 'python -m pip install --upgrade pip' command.\n"
     ]
    },
    {
     "name": "stdout",
     "output_type": "stream",
     "text": [
      "\n",
      "  Downloading https://files.pythonhosted.org/packages/53/b8/62952729573d983d9433faacf62a52ee2e8cf46504418061ad1739967abe/ipywidgets-8.1.6-py3-none-any.whl (139kB)\n",
      "Collecting jupyterlab_widgets~=3.0.14 (from ipywidgets)\n",
      "  Downloading https://files.pythonhosted.org/packages/64/7a/f2479ba401e02f7fcbd3fc6af201eac888eaa188574b8e9df19452ab4972/jupyterlab_widgets-3.0.14-py3-none-any.whl (213kB)\n",
      "Requirement already satisfied: ipython>=6.1.0 in c:\\users\\vidhu\\desktop\\cc\\venv37\\lib\\site-packages (from ipywidgets) (7.34.0)\n",
      "Collecting comm>=0.1.3 (from ipywidgets)\n",
      "  Downloading https://files.pythonhosted.org/packages/fe/47/0133ac1b7dc476ed77710715e98077119b3d9bae56b13f6f9055e7da1c53/comm-0.1.4-py3-none-any.whl\n",
      "Collecting widgetsnbextension~=4.0.14 (from ipywidgets)\n",
      "  Downloading https://files.pythonhosted.org/packages/ca/51/5447876806d1088a0f8f71e16542bf350918128d0a69437df26047c8e46f/widgetsnbextension-4.0.14-py3-none-any.whl (2.2MB)\n",
      "Requirement already satisfied: traitlets>=4.3.1 in c:\\users\\vidhu\\desktop\\cc\\venv37\\lib\\site-packages (from ipywidgets) (5.9.0)\n",
      "Requirement already satisfied: jedi>=0.16 in c:\\users\\vidhu\\desktop\\cc\\venv37\\lib\\site-packages (from ipython>=6.1.0->ipywidgets) (0.19.2)\n",
      "Requirement already satisfied: decorator in c:\\users\\vidhu\\desktop\\cc\\venv37\\lib\\site-packages (from ipython>=6.1.0->ipywidgets) (5.1.1)\n",
      "Requirement already satisfied: setuptools>=18.5 in c:\\users\\vidhu\\desktop\\cc\\venv37\\lib\\site-packages (from ipython>=6.1.0->ipywidgets) (39.0.1)\n",
      "Requirement already satisfied: prompt-toolkit!=3.0.0,!=3.0.1,<3.1.0,>=2.0.0 in c:\\users\\vidhu\\desktop\\cc\\venv37\\lib\\site-packages (from ipython>=6.1.0->ipywidgets) (3.0.48)\n",
      "Requirement already satisfied: colorama; sys_platform == \"win32\" in c:\\users\\vidhu\\desktop\\cc\\venv37\\lib\\site-packages (from ipython>=6.1.0->ipywidgets) (0.4.6)\n",
      "Requirement already satisfied: matplotlib-inline in c:\\users\\vidhu\\desktop\\cc\\venv37\\lib\\site-packages (from ipython>=6.1.0->ipywidgets) (0.1.6)\n",
      "Requirement already satisfied: pickleshare in c:\\users\\vidhu\\desktop\\cc\\venv37\\lib\\site-packages (from ipython>=6.1.0->ipywidgets) (0.7.5)\n",
      "Requirement already satisfied: pygments in c:\\users\\vidhu\\desktop\\cc\\venv37\\lib\\site-packages (from ipython>=6.1.0->ipywidgets) (2.17.2)\n",
      "Requirement already satisfied: backcall in c:\\users\\vidhu\\desktop\\cc\\venv37\\lib\\site-packages (from ipython>=6.1.0->ipywidgets) (0.2.0)\n",
      "Requirement already satisfied: parso<0.9.0,>=0.8.4 in c:\\users\\vidhu\\desktop\\cc\\venv37\\lib\\site-packages (from jedi>=0.16->ipython>=6.1.0->ipywidgets) (0.8.4)\n",
      "Requirement already satisfied: wcwidth in c:\\users\\vidhu\\desktop\\cc\\venv37\\lib\\site-packages (from prompt-toolkit!=3.0.0,!=3.0.1,<3.1.0,>=2.0.0->ipython>=6.1.0->ipywidgets) (0.2.13)\n",
      "Installing collected packages: jupyterlab-widgets, comm, widgetsnbextension, ipywidgets\n",
      "Successfully installed comm-0.1.4 ipywidgets-8.1.6 jupyterlab-widgets-3.0.14 widgetsnbextension-4.0.14\n"
     ]
    }
   ],
   "source": [
    "!pip install ipywidgets "
   ]
  },
  {
   "cell_type": "code",
   "execution_count": 2,
   "metadata": {},
   "outputs": [
    {
     "data": {
      "application/vnd.jupyter.widget-view+json": {
       "model_id": "b12503f385054cfeae78f0d1f8b9a9a8",
       "version_major": 2,
       "version_minor": 0
      },
      "text/plain": [
       "Text(value='', description='You:', placeholder='Ask HealthBot...')"
      ]
     },
     "metadata": {},
     "output_type": "display_data"
    },
    {
     "name": "stderr",
     "output_type": "stream",
     "text": [
      "c:\\Users\\Vidhu\\Desktop\\cc\\venv37\\lib\\site-packages\\ipykernel_launcher.py:23: DeprecationWarning: on_submit is deprecated. Instead, set the .continuous_update attribute to False and observe the value changing with: mywidget.observe(callback, 'value').\n"
     ]
    },
    {
     "name": "stdout",
     "output_type": "stream",
     "text": [
      "HealthBot: Hello! I am HealthBot. How can I assist you today?\n",
      "HealthBot: Warm fluids, soups, citrus fruits, and light meals help during a cold.\n",
      "HealthBot: Warm fluids, soups, citrus fruits, and light meals help during a cold.\n",
      "HealthBot: Sit down, breathe deeply, and drink water. If it continues, seek medical help.\n",
      "HealthBot: Goodbye! Stay healthy.\n"
     ]
    }
   ],
   "source": [
    "import ipywidgets as widgets\n",
    "from IPython.display import display\n",
    "\n",
    "# Create input box\n",
    "input_box = widgets.Text(\n",
    "    description='You:',\n",
    "    placeholder='Ask HealthBot...',\n",
    "    disabled=False\n",
    ")\n",
    "\n",
    "display(input_box)\n",
    "\n",
    "def on_submit(change):\n",
    "    user_input = input_box.value\n",
    "    if user_input.lower() == 'exit':\n",
    "        print(\"HealthBot: Goodbye! Stay healthy.\")\n",
    "        input_box.disabled = True\n",
    "    else:\n",
    "        response = health_bot.get_response(user_input)\n",
    "        print(f\"HealthBot: {response}\")\n",
    "    input_box.value = \"\"\n",
    "\n",
    "input_box.on_submit(on_submit)\n"
   ]
  }
 ],
 "metadata": {
  "kernelspec": {
   "display_name": "venv37",
   "language": "python",
   "name": "python3"
  },
  "language_info": {
   "codemirror_mode": {
    "name": "ipython",
    "version": 3
   },
   "file_extension": ".py",
   "mimetype": "text/x-python",
   "name": "python",
   "nbconvert_exporter": "python",
   "pygments_lexer": "ipython3",
   "version": "3.7.0"
  }
 },
 "nbformat": 4,
 "nbformat_minor": 2
}
