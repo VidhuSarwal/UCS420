{
  "nbformat": 4,
  "nbformat_minor": 0,
  "metadata": {
    "colab": {
      "provenance": [],
      "authorship_tag": "ABX9TyN4wieGa0n2OhRpDTumrR50"
    },
    "kernelspec": {
      "name": "python3",
      "display_name": "Python 3"
    },
    "language_info": {
      "name": "python"
    }
  },
  "cells": [
    {
      "cell_type": "code",
      "source": [
        "for i in range(3):\n",
        "  print(\"Vidhu\")"
      ],
      "metadata": {
        "colab": {
          "base_uri": "https://localhost:8080/"
        },
        "id": "dxunvXqXBOfd",
        "outputId": "f95b28bb-d0f9-41d6-e77e-043aaa04ed99"
      },
      "execution_count": null,
      "outputs": [
        {
          "output_type": "stream",
          "name": "stdout",
          "text": [
            "Vidhu\n",
            "Vidhu\n",
            "Vidhu\n"
          ]
        }
      ]
    },
    {
      "cell_type": "markdown",
      "source": [
        "Print Name 3 times"
      ],
      "metadata": {
        "id": "uciyFeWvGlnU"
      }
    },
    {
      "cell_type": "code",
      "source": [
        "for i in range(3):\n",
        "  print(\"Vidhu\")"
      ],
      "metadata": {
        "id": "qawXNc86FNpB",
        "colab": {
          "base_uri": "https://localhost:8080/"
        },
        "outputId": "8f37f616-3854-4f56-f891-6fa4e6de5932"
      },
      "execution_count": 8,
      "outputs": [
        {
          "output_type": "stream",
          "name": "stdout",
          "text": [
            "Vidhu\n",
            "Vidhu\n",
            "Vidhu\n"
          ]
        }
      ]
    },
    {
      "cell_type": "code",
      "source": [],
      "metadata": {
        "id": "z1D25yMxGrY1"
      },
      "execution_count": null,
      "outputs": []
    }
  ]
}