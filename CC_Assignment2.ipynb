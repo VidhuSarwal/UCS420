{
  "nbformat": 4,
  "nbformat_minor": 0,
  "metadata": {
    "colab": {
      "provenance": [],
      "authorship_tag": "ABX9TyNXti4t+3H78AGUCZbrf+4J",
      "include_colab_link": true
    },
    "kernelspec": {
      "name": "python3",
      "display_name": "Python 3"
    },
    "language_info": {
      "name": "python"
    }
  },
  "cells": [
    {
      "cell_type": "markdown",
      "metadata": {
        "id": "view-in-github",
        "colab_type": "text"
      },
      "source": [
        "<a href=\"https://colab.research.google.com/github/VidhuSarwal/UCS420/blob/main/CC_Assignment2.ipynb\" target=\"_parent\"><img src=\"https://colab.research.google.com/assets/colab-badge.svg\" alt=\"Open In Colab\"/></a>"
      ]
    },
    {
      "cell_type": "code",
      "execution_count": null,
      "metadata": {
        "id": "rphlqA3W5ur_"
      },
      "outputs": [],
      "source": [
        "#q1\n",
        "L=[10, 20, 30, 40, 50, 60, 70, 80]\n",
        "L.append(200)\n",
        "L.append(300)\n",
        "print(\"List after adding 200 and 300: \",L)\n",
        "\n",
        "L.remove(10)\n",
        "L.remove(30)\n",
        "print(\"List after removing 10 and 30: \",L)\n",
        "\n",
        "L.sort()\n",
        "print(\"List sorted in ascending order: \",L)\n",
        "\n",
        "L.sort(reverse=True)\n",
        "print(\"List sorted in descending order: \",L)"
      ]
    },
    {
      "cell_type": "code",
      "source": [
        "#q2\n",
        "marks=(45, 89.5, 76, 45.4, 89, 92, 58, 45)\n",
        "\n",
        "highest_score=max(marks)\n",
        "highest_index=marks.index(highest_score)\n",
        "print(f\"Highest score is {highest_score} and its index is {highest_index}\")\n",
        "\n",
        "lowest_score=min(marks)\n",
        "lowest_count=marks.count(lowest_score)\n",
        "print(f\"Lowest score is {lowest_score} and it appears {lowest_count} times\")\n",
        "\n",
        "reversed_list=list(reversed(marks))\n",
        "print(\"Reversed tuple as a list: \",reversed_list)\n",
        "\n",
        "a=int(input(\"Enter a number: \"))\n",
        "if a in marks:\n",
        "    first_occur=marks.index(a)\n",
        "    print(f\"{a} is present at index {first_occur}\")\n",
        "else:\n",
        "    print(f\"{a} is not present\")\n",
        ""
      ],
      "metadata": {
        "id": "yHDeqt3552rG"
      },
      "execution_count": null,
      "outputs": []
    },
    {
      "cell_type": "code",
      "source": [
        "#q3\n",
        "import random\n",
        "\n",
        "def is_prime(num):\n",
        "    if num <= 1:\n",
        "        return False\n",
        "    for i in range(2, int(num ** 0.5) + 1):\n",
        "        if num % i == 0:\n",
        "            return False\n",
        "    return True\n",
        "\n",
        "random_numbers = [random.randint(100, 900) for _ in range(100)]\n",
        "\n",
        "odd_numbers = [num for num in random_numbers if num % 2 != 0]\n",
        "print(f\"Odd numbers ({len(odd_numbers)}): {odd_numbers}\")\n",
        "\n",
        "even_numbers = [num for num in random_numbers if num % 2 == 0]\n",
        "print(f\"Even numbers ({len(even_numbers)}): {even_numbers}\")\n",
        "\n",
        "prime_numbers = [num for num in random_numbers if is_prime(num)]\n",
        "print(f\"Prime numbers ({len(prime_numbers)}): {prime_numbers}\")"
      ],
      "metadata": {
        "id": "-UEu1iVA58BZ"
      },
      "execution_count": null,
      "outputs": []
    },
    {
      "cell_type": "code",
      "source": [
        "#q4\n",
        "\n",
        "A = {34, 56, 78, 90}\n",
        "B = {78, 45, 90, 23}\n",
        "\n",
        "unique_scores = A.union(B)\n",
        "print(f\"Unique scores (Union): {unique_scores}\")\n",
        "\n",
        "common_scores = A.intersection(B)\n",
        "print(f\"Common scores (Intersection): {common_scores}\")\n",
        "\n",
        "exclusive_scores = A.symmetric_difference(B)\n",
        "print(f\"Exclusive scores (Symmetric Difference): {exclusive_scores}\")\n",
        "\n",
        "is_A_subset_B = A.issubset(B)\n",
        "is_B_superset_A = B.issuperset(A)\n",
        "print(f\"Is Team A's scores a subset of Team B's scores? {is_A_subset_B}\")\n",
        "print(f\"Is Team B's scores a superset of Team A's scores? {is_B_superset_A}\")\n",
        "\n",
        "X = int(input(\"Enter a score to remove from Team A's scores: \"))\n",
        "if X in A:\n",
        "    A.remove(X)\n",
        "    print(f\"Score {X} removed from Team A. Updated scores: {A}\")\n",
        "else:\n",
        "    print(f\"Score {X} is not present in Team A's scores.\")"
      ],
      "metadata": {
        "id": "1VsPusiN6Ex9"
      },
      "execution_count": null,
      "outputs": []
    },
    {
      "cell_type": "code",
      "source": [
        "#q5\n",
        "sample_dict = {\n",
        "    \"name\": \"Kelly\",\n",
        "    \"age\": 25,\n",
        "    \"salary\": 8000,\n",
        "    \"city\": \"New york\"\n",
        "}\n",
        "\n",
        "sample_dict[\"location\"] = sample_dict.pop(\"city\")\n",
        "\n",
        "print(sample_dict)"
      ],
      "metadata": {
        "id": "xIAtgjtp6LqZ"
      },
      "execution_count": null,
      "outputs": []
    }
  ]
}