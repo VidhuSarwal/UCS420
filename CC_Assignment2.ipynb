{
  "nbformat": 4,
  "nbformat_minor": 0,
  "metadata": {
    "colab": {
      "provenance": [],
      "authorship_tag": "ABX9TyNvW1o/8T1XTRky0tkJJcAV",
      "include_colab_link": true
    },
    "kernelspec": {
      "name": "python3",
      "display_name": "Python 3"
    },
    "language_info": {
      "name": "python"
    }
  },
  "cells": [
    {
      "cell_type": "markdown",
      "metadata": {
        "id": "view-in-github",
        "colab_type": "text"
      },
      "source": [
        "<a href=\"https://colab.research.google.com/github/VidhuSarwal/UCS420/blob/main/CC_Assignment2.ipynb\" target=\"_parent\"><img src=\"https://colab.research.google.com/assets/colab-badge.svg\" alt=\"Open In Colab\"/></a>"
      ]
    },
    {
      "cell_type": "code",
      "execution_count": 1,
      "metadata": {
        "colab": {
          "base_uri": "https://localhost:8080/"
        },
        "id": "rphlqA3W5ur_",
        "outputId": "5a18f257-1092-4f35-ef5e-a663f32ca0fc"
      },
      "outputs": [
        {
          "output_type": "stream",
          "name": "stdout",
          "text": [
            "List after adding 200 and 300:  [10, 20, 30, 40, 50, 60, 70, 80, 200, 300]\n",
            "List after removing 10 and 30:  [20, 40, 50, 60, 70, 80, 200, 300]\n",
            "List sorted in ascending order:  [20, 40, 50, 60, 70, 80, 200, 300]\n",
            "List sorted in descending order:  [300, 200, 80, 70, 60, 50, 40, 20]\n"
          ]
        }
      ],
      "source": [
        "#q1\n",
        "L=[10, 20, 30, 40, 50, 60, 70, 80]\n",
        "L.append(200)\n",
        "L.append(300)\n",
        "print(\"List after adding 200 and 300: \",L)\n",
        "\n",
        "L.remove(10)\n",
        "L.remove(30)\n",
        "print(\"List after removing 10 and 30: \",L)\n",
        "\n",
        "L.sort()\n",
        "print(\"List sorted in ascending order: \",L)\n",
        "\n",
        "L.sort(reverse=True)\n",
        "print(\"List sorted in descending order: \",L)"
      ]
    },
    {
      "cell_type": "code",
      "source": [
        "#q2\n",
        "marks=(45, 89.5, 76, 45.4, 89, 92, 58, 45)\n",
        "\n",
        "highest_score=max(marks)\n",
        "highest_index=marks.index(highest_score)\n",
        "print(f\"Highest score is {highest_score} and its index is {highest_index}\")\n",
        "\n",
        "lowest_score=min(marks)\n",
        "lowest_count=marks.count(lowest_score)\n",
        "print(f\"Lowest score is {lowest_score} and it appears {lowest_count} times\")\n",
        "\n",
        "reversed_list=list(reversed(marks))\n",
        "print(\"Reversed tuple as a list: \",reversed_list)\n",
        "\n",
        "a=int(input(\"Enter a number: \"))\n",
        "if a in marks:\n",
        "    first_occur=marks.index(a)\n",
        "    print(f\"{a} is present at index {first_occur}\")\n",
        "else:\n",
        "    print(f\"{a} is not present\")\n",
        ""
      ],
      "metadata": {
        "colab": {
          "base_uri": "https://localhost:8080/"
        },
        "id": "yHDeqt3552rG",
        "outputId": "953059db-6ab8-47c7-c912-3ef947a55029"
      },
      "execution_count": 2,
      "outputs": [
        {
          "output_type": "stream",
          "name": "stdout",
          "text": [
            "Highest score is 92 and its index is 5\n",
            "Lowest score is 45 and it appears 2 times\n",
            "Reversed tuple as a list:  [45, 58, 92, 89, 45.4, 76, 89.5, 45]\n",
            "Enter a number: 58\n",
            "58 is present at index 6\n"
          ]
        }
      ]
    },
    {
      "cell_type": "code",
      "source": [
        "#q3\n",
        "import random\n",
        "\n",
        "def is_prime(num):\n",
        "    if num <= 1:\n",
        "        return False\n",
        "    for i in range(2, int(num ** 0.5) + 1):\n",
        "        if num % i == 0:\n",
        "            return False\n",
        "    return True\n",
        "\n",
        "random_numbers = [random.randint(100, 900) for _ in range(100)]\n",
        "\n",
        "odd_numbers = [num for num in random_numbers if num % 2 != 0]\n",
        "print(f\"Odd numbers ({len(odd_numbers)}): {odd_numbers}\")\n",
        "\n",
        "even_numbers = [num for num in random_numbers if num % 2 == 0]\n",
        "print(f\"Even numbers ({len(even_numbers)}): {even_numbers}\")\n",
        "\n",
        "prime_numbers = [num for num in random_numbers if is_prime(num)]\n",
        "print(f\"Prime numbers ({len(prime_numbers)}): {prime_numbers}\")"
      ],
      "metadata": {
        "colab": {
          "base_uri": "https://localhost:8080/"
        },
        "id": "-UEu1iVA58BZ",
        "outputId": "73a8a14c-c163-4df8-a269-e06576fc092c"
      },
      "execution_count": 3,
      "outputs": [
        {
          "output_type": "stream",
          "name": "stdout",
          "text": [
            "Odd numbers (46): [153, 413, 129, 369, 409, 709, 329, 853, 267, 819, 525, 153, 355, 521, 259, 359, 273, 215, 123, 769, 717, 267, 665, 467, 365, 831, 691, 671, 333, 563, 803, 291, 119, 817, 273, 267, 569, 819, 261, 817, 709, 621, 555, 739, 793, 789]\n",
            "Even numbers (54): [582, 520, 772, 100, 756, 590, 708, 870, 178, 382, 430, 470, 412, 442, 334, 180, 270, 554, 642, 668, 410, 312, 602, 750, 188, 292, 186, 416, 776, 840, 814, 416, 128, 744, 140, 818, 460, 260, 128, 754, 536, 878, 446, 564, 412, 368, 672, 286, 892, 370, 874, 244, 582, 472]\n",
            "Prime numbers (12): [409, 709, 853, 521, 359, 769, 467, 691, 563, 569, 709, 739]\n"
          ]
        }
      ]
    },
    {
      "cell_type": "code",
      "source": [
        "#q4\n",
        "\n",
        "A = {34, 56, 78, 90}\n",
        "B = {78, 45, 90, 23}\n",
        "\n",
        "unique_scores = A.union(B)\n",
        "print(f\"Unique scores (Union): {unique_scores}\")\n",
        "\n",
        "common_scores = A.intersection(B)\n",
        "print(f\"Common scores (Intersection): {common_scores}\")\n",
        "\n",
        "exclusive_scores = A.symmetric_difference(B)\n",
        "print(f\"Exclusive scores (Symmetric Difference): {exclusive_scores}\")\n",
        "\n",
        "is_A_subset_B = A.issubset(B)\n",
        "is_B_superset_A = B.issuperset(A)\n",
        "print(f\"Is Team A's scores a subset of Team B's scores? {is_A_subset_B}\")\n",
        "print(f\"Is Team B's scores a superset of Team A's scores? {is_B_superset_A}\")\n",
        "\n",
        "X = int(input(\"Enter a score to remove from Team A's scores: \"))\n",
        "if X in A:\n",
        "    A.remove(X)\n",
        "    print(f\"Score {X} removed from Team A. Updated scores: {A}\")\n",
        "else:\n",
        "    print(f\"Score {X} is not present in Team A's scores.\")"
      ],
      "metadata": {
        "colab": {
          "base_uri": "https://localhost:8080/"
        },
        "id": "1VsPusiN6Ex9",
        "outputId": "b4626fc1-5988-4cd1-ec1b-672c139b5401"
      },
      "execution_count": 4,
      "outputs": [
        {
          "output_type": "stream",
          "name": "stdout",
          "text": [
            "Unique scores (Union): {34, 45, 78, 23, 56, 90}\n",
            "Common scores (Intersection): {90, 78}\n",
            "Exclusive scores (Symmetric Difference): {34, 45, 23, 56}\n",
            "Is Team A's scores a subset of Team B's scores? False\n",
            "Is Team B's scores a superset of Team A's scores? False\n",
            "Enter a score to remove from Team A's scores: 34\n",
            "Score 34 removed from Team A. Updated scores: {56, 90, 78}\n"
          ]
        }
      ]
    },
    {
      "cell_type": "code",
      "source": [
        "#q5\n",
        "sample_dict = {\n",
        "    \"name\": \"Kelly\",\n",
        "    \"age\": 25,\n",
        "    \"salary\": 8000,\n",
        "    \"city\": \"New york\"\n",
        "}\n",
        "\n",
        "sample_dict[\"location\"] = sample_dict.pop(\"city\")\n",
        "\n",
        "print(sample_dict)"
      ],
      "metadata": {
        "colab": {
          "base_uri": "https://localhost:8080/"
        },
        "id": "xIAtgjtp6LqZ",
        "outputId": "61c67995-1130-421f-cec7-a726faa16bd9"
      },
      "execution_count": 5,
      "outputs": [
        {
          "output_type": "stream",
          "name": "stdout",
          "text": [
            "{'name': 'Kelly', 'age': 25, 'salary': 8000, 'location': 'New york'}\n"
          ]
        }
      ]
    },
    {
      "cell_type": "code",
      "source": [],
      "metadata": {
        "id": "FBNglR017Bz7"
      },
      "execution_count": null,
      "outputs": []
    }
  ]
}